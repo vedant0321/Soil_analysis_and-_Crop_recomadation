{
 "nbformat": 4,
 "nbformat_minor": 0,
 "metadata": {
  "colab": {
   "name": "Multiple Linear Regression",
   "provenance": [],
   "toc_visible": true,
   "authorship_tag": "ABX9TyPhYhte6t7H4wEK4xPpDWT7"
  },
  "kernelspec": {
   "name": "python3",
   "display_name": "Python 3"
  }
 },
 "cells": [
  {
   "cell_type": "markdown",
   "metadata": {
    "id": "CazISR8X_HUG",
    "colab_type": "text",
    "pycharm": {
     "name": "#%% md\n"
    }
   },
   "source": [
    "# Multiple Linear Regression"
   ]
  },
  {
   "cell_type": "markdown",
   "metadata": {
    "id": "pOyqYHTk_Q57",
    "colab_type": "text",
    "pycharm": {
     "name": "#%% md\n"
    }
   },
   "source": [
    "## Importing the libraries"
   ]
  },
  {
   "cell_type": "code",
   "metadata": {
    "id": "T_YHJjnD_Tja",
    "colab_type": "code",
    "colab": {},
    "pycharm": {
     "name": "#%%\n"
    }
   },
   "source": [
    "import numpy as np\n",
    "import matplotlib.pyplot as plt\n",
    "import pandas as pd"
   ],
   "execution_count": 245,
   "outputs": []
  },
  {
   "cell_type": "markdown",
   "source": [
    "## Importing the dataset"
   ],
   "metadata": {
    "collapsed": false,
    "pycharm": {
     "name": "#%% md\n"
    }
   }
  },
  {
   "cell_type": "code",
   "metadata": {
    "id": "UrxyEKGn_ez7",
    "colab_type": "code",
    "colab": {},
    "pycharm": {
     "name": "#%%\n"
    }
   },
   "source": [
    "dataset = pd.read_csv('Crop_recommendation.csv')\n",
    "X = dataset.iloc[:,:-1].values\n",
    "y = dataset.iloc[:,-1].values"
   ],
   "execution_count": 246,
   "outputs": []
  },
  {
   "cell_type": "code",
   "metadata": {
    "id": "GOB3QhV9B5kD",
    "colab_type": "code",
    "colab": {
     "base_uri": "https://localhost:8080/",
     "height": 857
    },
    "outputId": "4a05377a-2db2-43fc-b824-a0710448baee",
    "executionInfo": {
     "status": "ok",
     "timestamp": 1586353652778,
     "user_tz": -240,
     "elapsed": 552,
     "user": {
      "displayName": "Hadelin de Ponteves",
      "photoUrl": "https://lh3.googleusercontent.com/a-/AOh14GhEuXdT7eQweUmRPW8_laJuPggSK6hfvpl5a6WBaA=s64",
      "userId": "15047218817161520419"
     }
    },
    "pycharm": {
     "name": "#%%\n"
    }
   },
   "source": [
    "print(X)"
   ],
   "execution_count": 247,
   "outputs": [
    {
     "name": "stdout",
     "output_type": "stream",
     "text": [
      "[[ 90.    42.    43.   ...  82.     6.5  202.94]\n",
      " [ 85.    58.    41.   ...  80.32   7.04 226.66]\n",
      " [ 60.    55.    44.   ...  82.32   7.84 263.96]\n",
      " ...\n",
      " [118.    33.    30.   ...  67.23   6.36 173.32]\n",
      " [117.    32.    34.   ...  52.13   6.76 127.18]\n",
      " [104.    18.    30.   ...  60.4    6.78 140.94]]\n"
     ]
    }
   ]
  },
  {
   "cell_type": "code",
   "execution_count": 248,
   "outputs": [
    {
     "name": "stdout",
     "output_type": "stream",
     "text": [
      "['rice' 'rice' 'rice' ... 'coffee' 'coffee' 'coffee']\n"
     ]
    }
   ],
   "source": [
    "print(y)"
   ],
   "metadata": {
    "collapsed": false,
    "pycharm": {
     "name": "#%%\n"
    }
   }
  },
  {
   "cell_type": "markdown",
   "metadata": {
    "id": "VadrvE7s_lS9",
    "colab_type": "text",
    "pycharm": {
     "name": "#%% md\n"
    }
   },
   "source": [
    "## Encoding categorical data"
   ]
  },
  {
   "cell_type": "code",
   "metadata": {
    "id": "wV3fD1mbAvsh",
    "colab_type": "code",
    "colab": {},
    "pycharm": {
     "name": "#%%\n"
    }
   },
   "source": [
    "from sklearn import preprocessing\n",
    "le = preprocessing.LabelEncoder()\n",
    "y = le.fit_transform(y)\n",
    "i = le.inverse_transform(y)"
   ],
   "execution_count": 249,
   "outputs": []
  },
  {
   "cell_type": "code",
   "metadata": {
    "id": "4ym3HdYeCGYG",
    "colab_type": "code",
    "colab": {
     "base_uri": "https://localhost:8080/",
     "height": 857
    },
    "outputId": "ce09e670-cf06-4a1c-f5b0-89422aae0496",
    "executionInfo": {
     "status": "ok",
     "timestamp": 1586353657759,
     "user_tz": -240,
     "elapsed": 616,
     "user": {
      "displayName": "Hadelin de Ponteves",
      "photoUrl": "https://lh3.googleusercontent.com/a-/AOh14GhEuXdT7eQweUmRPW8_laJuPggSK6hfvpl5a6WBaA=s64",
      "userId": "15047218817161520419"
     }
    },
    "pycharm": {
     "name": "#%%\n"
    }
   },
   "source": [
    "print(y)"
   ],
   "execution_count": 250,
   "outputs": [
    {
     "name": "stdout",
     "output_type": "stream",
     "text": [
      "[20 20 20 ...  5  5  5]\n"
     ]
    }
   ]
  },
  {
   "cell_type": "code",
   "execution_count": 251,
   "outputs": [
    {
     "name": "stdout",
     "output_type": "stream",
     "text": [
      "['rice' 'rice' 'rice' ... 'coffee' 'coffee' 'coffee']\n"
     ]
    }
   ],
   "source": [
    "print(i)"
   ],
   "metadata": {
    "collapsed": false,
    "pycharm": {
     "name": "#%%\n"
    }
   }
  },
  {
   "cell_type": "markdown",
   "metadata": {
    "id": "WemVnqgeA70k",
    "colab_type": "text",
    "pycharm": {
     "name": "#%% md\n"
    }
   },
   "source": [
    "## Splitting the dataset into the Training set and Test set"
   ]
  },
  {
   "cell_type": "code",
   "metadata": {
    "id": "Kb_v_ae-A-20",
    "colab_type": "code",
    "colab": {},
    "pycharm": {
     "name": "#%%\n"
    }
   },
   "source": [
    "from sklearn.model_selection import train_test_split\n",
    "X_train, X_test, y_train, y_test = train_test_split(X, y, test_size = 0.2, random_state = 0)"
   ],
   "execution_count": 252,
   "outputs": []
  },
  {
   "cell_type": "code",
   "execution_count": 253,
   "outputs": [
    {
     "name": "stdout",
     "output_type": "stream",
     "text": [
      "[[ 27.   120.   200.   ...  90.75   6.11 116.7 ]\n",
      " [ 81.    36.    38.   ...  87.98   6.33 150.32]\n",
      " [ 90.    59.    35.   ...  89.86   7.1  175.17]\n",
      " ...\n",
      " [ 35.    64.    15.   ...  63.54   6.5   69.53]\n",
      " [ 39.    65.    23.   ...  69.13   7.69  41.03]\n",
      " [ 14.    22.     9.   ...  91.14   6.54 112.51]]\n"
     ]
    }
   ],
   "source": [
    "print(X_train)"
   ],
   "metadata": {
    "collapsed": false,
    "pycharm": {
     "name": "#%%\n"
    }
   }
  },
  {
   "cell_type": "code",
   "execution_count": 254,
   "outputs": [
    {
     "name": "stdout",
     "output_type": "stream",
     "text": [
      "[ 0  8  8 ...  2 10 16]\n"
     ]
    }
   ],
   "source": [
    "print(y_train)"
   ],
   "metadata": {
    "collapsed": false,
    "pycharm": {
     "name": "#%%\n"
    }
   }
  },
  {
   "cell_type": "markdown",
   "metadata": {
    "id": "k-McZVsQBINc",
    "colab_type": "text",
    "pycharm": {
     "name": "#%% md\n"
    }
   },
   "source": [
    "## Training the Multiple Linear Regression model on the Training set"
   ]
  },
  {
   "cell_type": "code",
   "metadata": {
    "id": "ywPjx0L1BMiD",
    "colab_type": "code",
    "colab": {
     "base_uri": "https://localhost:8080/",
     "height": 34
    },
    "outputId": "099836bc-4d85-4b4f-a488-093faf02e8cb",
    "executionInfo": {
     "status": "ok",
     "timestamp": 1586353664008,
     "user_tz": -240,
     "elapsed": 757,
     "user": {
      "displayName": "Hadelin de Ponteves",
      "photoUrl": "https://lh3.googleusercontent.com/a-/AOh14GhEuXdT7eQweUmRPW8_laJuPggSK6hfvpl5a6WBaA=s64",
      "userId": "15047218817161520419"
     }
    },
    "pycharm": {
     "name": "#%%\n"
    }
   },
   "source": [
    "from sklearn.ensemble import RandomForestRegressor\n",
    "regressor = RandomForestRegressor(n_estimators = 10, random_state = 0)\n",
    "regressor.fit(X, y)"
   ],
   "execution_count": 255,
   "outputs": [
    {
     "data": {
      "text/plain": "RandomForestRegressor(n_estimators=10, random_state=0)"
     },
     "execution_count": 255,
     "metadata": {},
     "output_type": "execute_result"
    }
   ]
  },
  {
   "cell_type": "markdown",
   "metadata": {
    "id": "xNkXL1YQBiBT",
    "colab_type": "text",
    "pycharm": {
     "name": "#%% md\n"
    }
   },
   "source": [
    "## Predicting the Test set results"
   ]
  },
  {
   "cell_type": "code",
   "metadata": {
    "id": "TQKmwvtdBkyb",
    "colab_type": "code",
    "colab": {
     "base_uri": "https://localhost:8080/",
     "height": 185
    },
    "outputId": "493436bf-a4ae-4374-ca16-0b0c25d19457",
    "executionInfo": {
     "status": "ok",
     "timestamp": 1586353666678,
     "user_tz": -240,
     "elapsed": 951,
     "user": {
      "displayName": "Hadelin de Ponteves",
      "photoUrl": "https://lh3.googleusercontent.com/a-/AOh14GhEuXdT7eQweUmRPW8_laJuPggSK6hfvpl5a6WBaA=s64",
      "userId": "15047218817161520419"
     }
    },
    "pycharm": {
     "name": "#%%\n"
    }
   },
   "source": [
    "y_pred = regressor.predict(X_test)\n",
    "np.set_printoptions(precision=2)\n",
    "print(np.concatenate((y_pred.reshape(len(y_pred),1), y_test.reshape(len(y_test),1)),1))"
   ],
   "execution_count": 256,
   "outputs": [
    {
     "name": "stdout",
     "output_type": "stream",
     "text": [
      "[[21.  21. ]\n",
      " [21.  21. ]\n",
      " [ 7.   7. ]\n",
      " [ 3.   3. ]\n",
      " [ 2.   2. ]\n",
      " [20.  20. ]\n",
      " [13.5 13. ]\n",
      " [ 9.   9. ]\n",
      " [15.  15. ]\n",
      " [ 1.   1. ]\n",
      " [13.  13. ]\n",
      " [ 5.   5. ]\n",
      " [10.  10. ]\n",
      " [14.  14. ]\n",
      " [12.  12. ]\n",
      " [ 0.   0. ]\n",
      " [ 5.   5. ]\n",
      " [10.  10. ]\n",
      " [ 5.   5. ]\n",
      " [12.  12. ]\n",
      " [ 4.   4. ]\n",
      " [ 2.   2. ]\n",
      " [10.8  9. ]\n",
      " [ 9.2  8. ]\n",
      " [ 6.   6. ]\n",
      " [ 5.   5. ]\n",
      " [10.  10. ]\n",
      " [16.  16. ]\n",
      " [13.  13. ]\n",
      " [ 8.4  9. ]\n",
      " [19.  19. ]\n",
      " [20.  20. ]\n",
      " [11.  11. ]\n",
      " [15.  15. ]\n",
      " [ 4.   4. ]\n",
      " [ 6.5  6. ]\n",
      " [12.  12. ]\n",
      " [12.  12. ]\n",
      " [21.  21. ]\n",
      " [12.4 13. ]\n",
      " [11.  11. ]\n",
      " [ 2.   2. ]\n",
      " [18.  18. ]\n",
      " [21.  21. ]\n",
      " [18.  18. ]\n",
      " [14.  14. ]\n",
      " [ 9.   9. ]\n",
      " [ 9.   9. ]\n",
      " [ 6.   6. ]\n",
      " [14.  14. ]\n",
      " [13.  13. ]\n",
      " [ 2.   2. ]\n",
      " [ 0.   0. ]\n",
      " [15.  15. ]\n",
      " [18.  18. ]\n",
      " [ 1.   1. ]\n",
      " [17.  17. ]\n",
      " [12.  12. ]\n",
      " [10.  10. ]\n",
      " [ 6.   6. ]\n",
      " [16.  16. ]\n",
      " [14.  14. ]\n",
      " [21.  21. ]\n",
      " [20.  20. ]\n",
      " [15.  15. ]\n",
      " [ 0.   0. ]\n",
      " [ 7.   7. ]\n",
      " [ 5.   5. ]\n",
      " [ 0.   0. ]\n",
      " [16.  16. ]\n",
      " [ 4.   4. ]\n",
      " [19.  19. ]\n",
      " [ 9.   9. ]\n",
      " [10.7 11. ]\n",
      " [ 7.   7. ]\n",
      " [13.  13. ]\n",
      " [ 3.   3. ]\n",
      " [11.  11. ]\n",
      " [ 8.   8. ]\n",
      " [12.  12. ]\n",
      " [20.  20. ]\n",
      " [ 4.2  2. ]\n",
      " [21.  21. ]\n",
      " [21.  21. ]\n",
      " [15.  15. ]\n",
      " [ 6.   6. ]\n",
      " [ 9.2 11. ]\n",
      " [10.  10. ]\n",
      " [12.7 13. ]\n",
      " [17.  17. ]\n",
      " [ 2.   2. ]\n",
      " [ 8.   8. ]\n",
      " [14.  14. ]\n",
      " [ 7.   7. ]\n",
      " [14.  14. ]\n",
      " [10.  11. ]\n",
      " [ 5.   5. ]\n",
      " [10.4  8. ]\n",
      " [10.  10. ]\n",
      " [ 3.6  3. ]\n",
      " [16.  16. ]\n",
      " [10.4  8. ]\n",
      " [14.  14. ]\n",
      " [ 1.   1. ]\n",
      " [ 2.6  1. ]\n",
      " [20.  20. ]\n",
      " [21.  21. ]\n",
      " [ 5.   5. ]\n",
      " [18.  18. ]\n",
      " [15.  15. ]\n",
      " [15.  15. ]\n",
      " [12.  12. ]\n",
      " [ 5.1  5. ]\n",
      " [ 7.   7. ]\n",
      " [16.  16. ]\n",
      " [19.  19. ]\n",
      " [14.  14. ]\n",
      " [10.  10. ]\n",
      " [11.  11. ]\n",
      " [10.2  8. ]\n",
      " [19.  19. ]\n",
      " [10.  10. ]\n",
      " [16.  16. ]\n",
      " [ 3.   3. ]\n",
      " [ 3.   3. ]\n",
      " [ 2.   2. ]\n",
      " [19.  19. ]\n",
      " [16.  16. ]\n",
      " [ 3.6  3. ]\n",
      " [17.  17. ]\n",
      " [12.7 13. ]\n",
      " [13.  13. ]\n",
      " [15.  15. ]\n",
      " [14.  14. ]\n",
      " [11.  11. ]\n",
      " [14.  14. ]\n",
      " [ 4.   4. ]\n",
      " [19.  19. ]\n",
      " [16.  16. ]\n",
      " [ 2.   2. ]\n",
      " [ 2.   2. ]\n",
      " [ 7.   7. ]\n",
      " [ 0.   0. ]\n",
      " [ 5.   5. ]\n",
      " [ 3.   3. ]\n",
      " [ 0.   0. ]\n",
      " [ 7.7  8. ]\n",
      " [12.  12. ]\n",
      " [21.  21. ]\n",
      " [17.  17. ]\n",
      " [16.  16. ]\n",
      " [ 4.   4. ]\n",
      " [12.7 13. ]\n",
      " [ 1.   1. ]\n",
      " [19.  19. ]\n",
      " [ 3.   3. ]\n",
      " [21.  21. ]\n",
      " [ 2.   2. ]\n",
      " [ 0.   0. ]\n",
      " [10.4  8. ]\n",
      " [10.  10. ]\n",
      " [18.  18. ]\n",
      " [ 8.   8. ]\n",
      " [ 9.   9. ]\n",
      " [ 9.   9. ]\n",
      " [15.  15. ]\n",
      " [20.  20. ]\n",
      " [15.  15. ]\n",
      " [ 1.   1. ]\n",
      " [16.  16. ]\n",
      " [18.  18. ]\n",
      " [ 0.   0. ]\n",
      " [13.  13. ]\n",
      " [ 4.   4. ]\n",
      " [ 6.   6. ]\n",
      " [14.  14. ]\n",
      " [ 9.   9. ]\n",
      " [19.  19. ]\n",
      " [17.  17. ]\n",
      " [16.  16. ]\n",
      " [20.  20. ]\n",
      " [17.  17. ]\n",
      " [17.  17. ]\n",
      " [18.  18. ]\n",
      " [ 9.   9. ]\n",
      " [ 1.   1. ]\n",
      " [ 4.   4. ]\n",
      " [18.  18. ]\n",
      " [20.  20. ]\n",
      " [17.  17. ]\n",
      " [11.  11. ]\n",
      " [ 8.   8. ]\n",
      " [13.  13. ]\n",
      " [20.  20. ]\n",
      " [11.  11. ]\n",
      " [ 5.   5. ]\n",
      " [18.  18. ]\n",
      " [ 4.   4. ]\n",
      " [ 3.   3. ]\n",
      " [12.  12. ]\n",
      " [ 4.   4. ]\n",
      " [19.  19. ]\n",
      " [11.  11. ]\n",
      " [13.  13. ]\n",
      " [13.  13. ]\n",
      " [16.  16. ]\n",
      " [15.  15. ]\n",
      " [11.  11. ]\n",
      " [18.  18. ]\n",
      " [ 1.   1. ]\n",
      " [ 3.   3. ]\n",
      " [ 2.   2. ]\n",
      " [18.2 18. ]\n",
      " [16.  16. ]\n",
      " [13.  13. ]\n",
      " [14.  14. ]\n",
      " [12.  12. ]\n",
      " [17.  17. ]\n",
      " [15.  15. ]\n",
      " [19.  19. ]\n",
      " [20.1 20. ]\n",
      " [20.  20. ]\n",
      " [ 2.   2. ]\n",
      " [17.  17. ]\n",
      " [ 2.   2. ]\n",
      " [ 5.   5. ]\n",
      " [11.  11. ]\n",
      " [ 5.6  5. ]\n",
      " [16.  16. ]\n",
      " [20.  20. ]\n",
      " [12.7 13. ]\n",
      " [14.  14. ]\n",
      " [16.  16. ]\n",
      " [ 9.   9. ]\n",
      " [19.  19. ]\n",
      " [ 4.   4. ]\n",
      " [12.  12. ]\n",
      " [14.  14. ]\n",
      " [ 6.   6. ]\n",
      " [20.  20. ]\n",
      " [ 3.   3. ]\n",
      " [14.  14. ]\n",
      " [ 0.   0. ]\n",
      " [18.  18. ]\n",
      " [ 2.   2. ]\n",
      " [20.  20. ]\n",
      " [21.  21. ]\n",
      " [ 2.8  2. ]\n",
      " [19.  19. ]\n",
      " [16.  16. ]\n",
      " [11.  11. ]\n",
      " [ 7.   7. ]\n",
      " [ 3.   3. ]\n",
      " [18.  18. ]\n",
      " [ 8.   8. ]\n",
      " [17.  17. ]\n",
      " [19.  19. ]\n",
      " [ 5.   5. ]\n",
      " [12.  12. ]\n",
      " [13.  13. ]\n",
      " [ 8.   8. ]\n",
      " [21.  21. ]\n",
      " [19.  19. ]\n",
      " [20.  20. ]\n",
      " [ 7.   7. ]\n",
      " [ 4.   4. ]\n",
      " [ 8.   8. ]\n",
      " [10.  10. ]\n",
      " [ 3.   3. ]\n",
      " [ 5.   5. ]\n",
      " [ 5.   5. ]\n",
      " [16.1 17. ]\n",
      " [19.  19. ]\n",
      " [10.8 11. ]\n",
      " [20.  20. ]\n",
      " [ 3.   3. ]\n",
      " [18.  18. ]\n",
      " [16.  16. ]\n",
      " [19.  19. ]\n",
      " [18.  18. ]\n",
      " [ 4.   4. ]\n",
      " [ 9.   9. ]\n",
      " [19.  19. ]\n",
      " [15.  15. ]\n",
      " [13.  13. ]\n",
      " [12.  12. ]\n",
      " [10.  10. ]\n",
      " [ 1.   1. ]\n",
      " [ 2.8  2. ]\n",
      " [12.  12. ]\n",
      " [ 9.   9. ]\n",
      " [12.  12. ]\n",
      " [ 6.   6. ]\n",
      " [14.  14. ]\n",
      " [17.  17. ]\n",
      " [ 7.   7. ]\n",
      " [ 7.   7. ]\n",
      " [18.  18. ]\n",
      " [17.  17. ]\n",
      " [ 8.   8. ]\n",
      " [20.  20. ]\n",
      " [ 4.   3. ]\n",
      " [15.  15. ]\n",
      " [ 5.   5. ]\n",
      " [21.  21. ]\n",
      " [17.3 20. ]\n",
      " [ 8.   8. ]\n",
      " [17.  17. ]\n",
      " [ 7.   7. ]\n",
      " [15.  15. ]\n",
      " [ 2.   2. ]\n",
      " [13.  13. ]\n",
      " [13.  13. ]\n",
      " [ 3.   3. ]\n",
      " [ 2.   2. ]\n",
      " [12.  12. ]\n",
      " [ 1.   1. ]\n",
      " [12.  12. ]\n",
      " [19.  19. ]\n",
      " [ 8.   8. ]\n",
      " [16.  16. ]\n",
      " [15.  15. ]\n",
      " [ 3.   3. ]\n",
      " [10.  10. ]\n",
      " [ 6.   6. ]\n",
      " [17.  17. ]\n",
      " [ 7.   7. ]\n",
      " [ 9.   9. ]\n",
      " [ 9.2 10. ]\n",
      " [ 0.   0. ]\n",
      " [20.  20. ]\n",
      " [15.  15. ]\n",
      " [ 0.   0. ]\n",
      " [17.  17. ]\n",
      " [ 2.   2. ]\n",
      " [ 9.2  8. ]\n",
      " [ 3.   3. ]\n",
      " [13.  13. ]\n",
      " [10.  10. ]\n",
      " [ 7.   7. ]\n",
      " [ 9.8  8. ]\n",
      " [ 9.   9. ]\n",
      " [15.  15. ]\n",
      " [17.  17. ]\n",
      " [ 7.   7. ]\n",
      " [17.  17. ]\n",
      " [20.  20. ]\n",
      " [ 5.   5. ]\n",
      " [15.  15. ]\n",
      " [13.  13. ]\n",
      " [ 1.   1. ]\n",
      " [17.  17. ]\n",
      " [16.  16. ]\n",
      " [ 9.   9. ]\n",
      " [21.  21. ]\n",
      " [18.  18. ]\n",
      " [ 0.   0. ]\n",
      " [21.  21. ]\n",
      " [21.  21. ]\n",
      " [18.  18. ]\n",
      " [ 9.9  9. ]\n",
      " [13.  13. ]\n",
      " [ 9.   9. ]\n",
      " [ 8.   8. ]\n",
      " [ 4.   4. ]\n",
      " [ 6.   6. ]\n",
      " [ 9.   9. ]\n",
      " [16.  16. ]\n",
      " [ 7.   6. ]\n",
      " [18.  18. ]\n",
      " [19.  19. ]\n",
      " [ 6.   6. ]\n",
      " [ 6.   6. ]\n",
      " [ 0.   0. ]\n",
      " [ 6.   6. ]\n",
      " [ 0.   0. ]\n",
      " [16.  16. ]\n",
      " [11.  11. ]\n",
      " [ 7.   7. ]\n",
      " [ 1.   1. ]\n",
      " [ 0.   0. ]\n",
      " [13.  13. ]\n",
      " [20.  20. ]\n",
      " [ 9.   9. ]\n",
      " [ 1.   1. ]\n",
      " [20.  20. ]\n",
      " [10.  10. ]\n",
      " [ 3.   3. ]\n",
      " [19.  19. ]\n",
      " [ 1.   1. ]\n",
      " [ 3.   3. ]\n",
      " [15.  15. ]\n",
      " [19.  19. ]\n",
      " [ 0.   0. ]\n",
      " [10.  10. ]\n",
      " [15.  15. ]\n",
      " [16.  16. ]\n",
      " [ 2.7  2. ]\n",
      " [15.  15. ]\n",
      " [13.  13. ]\n",
      " [12.  12. ]\n",
      " [ 3.   3. ]\n",
      " [19.  19. ]\n",
      " [12.  12. ]\n",
      " [ 3.   3. ]\n",
      " [ 4.   4. ]\n",
      " [15.  15. ]\n",
      " [ 1.   1. ]\n",
      " [18.  18. ]\n",
      " [17.  17. ]\n",
      " [ 9.2  8. ]\n",
      " [10.6 10. ]\n",
      " [ 6.   6. ]\n",
      " [20.  20. ]\n",
      " [ 1.   1. ]\n",
      " [ 4.   4. ]\n",
      " [20.  20. ]\n",
      " [ 2.   2. ]\n",
      " [11.  11. ]\n",
      " [16.  16. ]\n",
      " [21.  21. ]\n",
      " [20.  20. ]\n",
      " [ 0.   0. ]\n",
      " [ 7.   7. ]\n",
      " [16.4 18. ]\n",
      " [ 7.   7. ]\n",
      " [ 4.   3. ]\n",
      " [12.  12. ]\n",
      " [ 8.   8. ]\n",
      " [19.  19. ]\n",
      " [11.  11. ]\n",
      " [12.  12. ]\n",
      " [ 7.   7. ]\n",
      " [ 2.6  1. ]\n",
      " [14.  14. ]\n",
      " [18.  18. ]\n",
      " [ 1.   1. ]\n",
      " [ 6.   6. ]\n",
      " [ 2.   2. ]\n",
      " [ 0.   0. ]]\n"
     ]
    }
   ]
  },
  {
   "cell_type": "code",
   "execution_count": 257,
   "outputs": [
    {
     "name": "stdout",
     "output_type": "stream",
     "text": [
      "[21 21  7  3  2 20 13  9 15  1 13  5 10 14 12  0  5 10  5 12  4  2  9  8\n",
      "  6  5 10 16 13  9 19 20 11 15  4  6 12 12 21 13 11  2 18 21 18 14  9  9\n",
      "  6 14 13  2  0 15 18  1 17 12 10  6 16 14 21 20 15  0  7  5  0 16  4 19\n",
      "  9 11  7 13  3 11  8 12 20  2 21 21 15  6 11 10 13 17  2  8 14  7 14 11\n",
      "  5  8 10  3 16  8 14  1  1 20 21  5 18 15 15 12  5  7 16 19 14 10 11  8\n",
      " 19 10 16  3  3  2 19 16  3 17 13 13 15 14 11 14  4 19 16  2  2  7  0  5\n",
      "  3  0  8 12 21 17 16  4 13  1 19  3 21  2  0  8 10 18  8  9  9 15 20 15\n",
      "  1 16 18  0 13  4  6 14  9 19 17 16 20 17 17 18  9  1  4 18 20 17 11  8\n",
      " 13 20 11  5 18  4  3 12  4 19 11 13 13 16 15 11 18  1  3  2 18 16 13 14\n",
      " 12 17 15 19 20 20  2 17  2  5 11  5 16 20 13 14 16  9 19  4 12 14  6 20\n",
      "  3 14  0 18  2 20 21  2 19 16 11  7  3 18  8 17 19  5 12 13  8 21 19 20\n",
      "  7  4  8 10  3  5  5 17 19 11 20  3 18 16 19 18  4  9 19 15 13 12 10  1\n",
      "  2 12  9 12  6 14 17  7  7 18 17  8 20  3 15  5 21 20  8 17  7 15  2 13\n",
      " 13  3  2 12  1 12 19  8 16 15  3 10  6 17  7  9 10  0 20 15  0 17  2  8\n",
      "  3 13 10  7  8  9 15 17  7 17 20  5 15 13  1 17 16  9 21 18  0 21 21 18\n",
      "  9 13  9  8  4  6  9 16  6 18 19  6  6  0  6  0 16 11  7  1  0 13 20  9\n",
      "  1 20 10  3 19  1  3 15 19  0 10 15 16  2 15 13 12  3 19 12  3  4 15  1\n",
      " 18 17  8 10  6 20  1  4 20  2 11 16 21 20  0  7 18  7  3 12  8 19 11 12\n",
      "  7  1 14 18  1  6  2  0]\n"
     ]
    }
   ],
   "source": [
    "print(y_test)"
   ],
   "metadata": {
    "collapsed": false,
    "pycharm": {
     "name": "#%%\n"
    }
   }
  },
  {
   "cell_type": "code",
   "execution_count": 258,
   "outputs": [
    {
     "name": "stdout",
     "output_type": "stream",
     "text": [
      "21\n"
     ]
    }
   ],
   "source": [
    "y_pred = np.array(y_pred)\n",
    "y_pred = np.asarray(y_pred, dtype = 'int')\n",
    "\n",
    "print(y_pred[1])"
   ],
   "metadata": {
    "collapsed": false,
    "pycharm": {
     "name": "#%%\n"
    }
   }
  },
  {
   "cell_type": "markdown",
   "source": [
    "## Accuracy Score"
   ],
   "metadata": {
    "collapsed": false,
    "pycharm": {
     "name": "#%% md\n"
    }
   }
  },
  {
   "cell_type": "code",
   "execution_count": 259,
   "outputs": [
    {
     "name": "stdout",
     "output_type": "stream",
     "text": [
      "93.18181818181817\n"
     ]
    }
   ],
   "source": [
    "from sklearn.metrics import accuracy_score\n",
    "print(accuracy_score(y_test, y_pred) * 100)"
   ],
   "metadata": {
    "collapsed": false,
    "pycharm": {
     "name": "#%%\n"
    }
   }
  },
  {
   "cell_type": "code",
   "execution_count": 260,
   "outputs": [
    {
     "name": "stdout",
     "output_type": "stream",
     "text": [
      "['watermelon' 'watermelon' 'grapes' 'chickpea' 'blackgram' 'rice'\n",
      " 'mothbeans' 'kidneybeans' 'muskmelon' 'banana' 'mothbeans' 'coffee'\n",
      " 'lentil' 'mungbean' 'mango' 'apple' 'coffee' 'lentil' 'coffee' 'mango'\n",
      " 'coconut' 'blackgram' 'lentil' 'kidneybeans' 'cotton' 'coffee' 'lentil'\n",
      " 'orange' 'mothbeans' 'jute' 'pomegranate' 'rice' 'maize' 'muskmelon'\n",
      " 'coconut' 'cotton' 'mango' 'mango' 'watermelon' 'mango' 'maize'\n",
      " 'blackgram' 'pigeonpeas' 'watermelon' 'pigeonpeas' 'mungbean'\n",
      " 'kidneybeans' 'kidneybeans' 'cotton' 'mungbean' 'mothbeans' 'blackgram'\n",
      " 'apple' 'muskmelon' 'pigeonpeas' 'banana' 'papaya' 'mango' 'lentil'\n",
      " 'cotton' 'orange' 'mungbean' 'watermelon' 'rice' 'muskmelon' 'apple'\n",
      " 'grapes' 'coffee' 'apple' 'orange' 'coconut' 'pomegranate' 'kidneybeans'\n",
      " 'lentil' 'grapes' 'mothbeans' 'chickpea' 'maize' 'jute' 'mango' 'rice'\n",
      " 'coconut' 'watermelon' 'watermelon' 'muskmelon' 'cotton' 'kidneybeans'\n",
      " 'lentil' 'mango' 'papaya' 'blackgram' 'jute' 'mungbean' 'grapes'\n",
      " 'mungbean' 'lentil' 'coffee' 'lentil' 'lentil' 'chickpea' 'orange'\n",
      " 'lentil' 'mungbean' 'banana' 'blackgram' 'rice' 'watermelon' 'coffee'\n",
      " 'pigeonpeas' 'muskmelon' 'muskmelon' 'mango' 'coffee' 'grapes' 'orange'\n",
      " 'pomegranate' 'mungbean' 'lentil' 'maize' 'lentil' 'pomegranate' 'lentil'\n",
      " 'orange' 'chickpea' 'chickpea' 'blackgram' 'pomegranate' 'orange'\n",
      " 'chickpea' 'papaya' 'mango' 'mothbeans' 'muskmelon' 'mungbean' 'maize'\n",
      " 'mungbean' 'coconut' 'pomegranate' 'orange' 'blackgram' 'blackgram'\n",
      " 'grapes' 'apple' 'coffee' 'chickpea' 'apple' 'grapes' 'mango'\n",
      " 'watermelon' 'papaya' 'orange' 'coconut' 'mango' 'banana' 'pomegranate'\n",
      " 'chickpea' 'watermelon' 'blackgram' 'apple' 'lentil' 'lentil'\n",
      " 'pigeonpeas' 'jute' 'kidneybeans' 'kidneybeans' 'muskmelon' 'rice'\n",
      " 'muskmelon' 'banana' 'orange' 'pigeonpeas' 'apple' 'mothbeans' 'coconut'\n",
      " 'cotton' 'mungbean' 'kidneybeans' 'pomegranate' 'papaya' 'orange' 'rice'\n",
      " 'papaya' 'papaya' 'pigeonpeas' 'kidneybeans' 'banana' 'coconut'\n",
      " 'pigeonpeas' 'rice' 'papaya' 'maize' 'jute' 'mothbeans' 'rice' 'maize'\n",
      " 'coffee' 'pigeonpeas' 'coconut' 'chickpea' 'mango' 'coconut'\n",
      " 'pomegranate' 'maize' 'mothbeans' 'mothbeans' 'orange' 'muskmelon'\n",
      " 'maize' 'pigeonpeas' 'banana' 'chickpea' 'blackgram' 'pigeonpeas'\n",
      " 'orange' 'mothbeans' 'mungbean' 'mango' 'papaya' 'muskmelon'\n",
      " 'pomegranate' 'rice' 'rice' 'blackgram' 'papaya' 'blackgram' 'coffee'\n",
      " 'maize' 'coffee' 'orange' 'rice' 'mango' 'mungbean' 'orange'\n",
      " 'kidneybeans' 'pomegranate' 'coconut' 'mango' 'mungbean' 'cotton' 'rice'\n",
      " 'chickpea' 'mungbean' 'apple' 'pigeonpeas' 'blackgram' 'rice'\n",
      " 'watermelon' 'blackgram' 'pomegranate' 'orange' 'maize' 'grapes'\n",
      " 'chickpea' 'pigeonpeas' 'jute' 'papaya' 'pomegranate' 'coffee' 'mango'\n",
      " 'mothbeans' 'jute' 'watermelon' 'pomegranate' 'rice' 'grapes' 'coconut'\n",
      " 'jute' 'lentil' 'chickpea' 'coffee' 'coffee' 'orange' 'pomegranate'\n",
      " 'lentil' 'rice' 'chickpea' 'pigeonpeas' 'orange' 'pomegranate'\n",
      " 'pigeonpeas' 'coconut' 'kidneybeans' 'pomegranate' 'muskmelon'\n",
      " 'mothbeans' 'mango' 'lentil' 'banana' 'blackgram' 'mango' 'kidneybeans'\n",
      " 'mango' 'cotton' 'mungbean' 'papaya' 'grapes' 'grapes' 'pigeonpeas'\n",
      " 'papaya' 'jute' 'rice' 'coconut' 'muskmelon' 'coffee' 'watermelon'\n",
      " 'papaya' 'jute' 'papaya' 'grapes' 'muskmelon' 'blackgram' 'mothbeans'\n",
      " 'mothbeans' 'chickpea' 'blackgram' 'mango' 'banana' 'mango' 'pomegranate'\n",
      " 'jute' 'orange' 'muskmelon' 'chickpea' 'lentil' 'cotton' 'papaya'\n",
      " 'grapes' 'kidneybeans' 'kidneybeans' 'apple' 'rice' 'muskmelon' 'apple'\n",
      " 'papaya' 'blackgram' 'kidneybeans' 'chickpea' 'mothbeans' 'lentil'\n",
      " 'grapes' 'kidneybeans' 'kidneybeans' 'muskmelon' 'papaya' 'grapes'\n",
      " 'papaya' 'rice' 'coffee' 'muskmelon' 'mothbeans' 'banana' 'papaya'\n",
      " 'orange' 'kidneybeans' 'watermelon' 'pigeonpeas' 'apple' 'watermelon'\n",
      " 'watermelon' 'pigeonpeas' 'kidneybeans' 'mothbeans' 'kidneybeans' 'jute'\n",
      " 'coconut' 'cotton' 'kidneybeans' 'orange' 'grapes' 'pigeonpeas'\n",
      " 'pomegranate' 'cotton' 'cotton' 'apple' 'cotton' 'apple' 'orange' 'maize'\n",
      " 'grapes' 'banana' 'apple' 'mothbeans' 'rice' 'kidneybeans' 'banana'\n",
      " 'rice' 'lentil' 'chickpea' 'pomegranate' 'banana' 'chickpea' 'muskmelon'\n",
      " 'pomegranate' 'apple' 'lentil' 'muskmelon' 'orange' 'blackgram'\n",
      " 'muskmelon' 'mothbeans' 'mango' 'chickpea' 'pomegranate' 'mango'\n",
      " 'chickpea' 'coconut' 'muskmelon' 'banana' 'pigeonpeas' 'papaya'\n",
      " 'kidneybeans' 'lentil' 'cotton' 'rice' 'banana' 'coconut' 'rice'\n",
      " 'blackgram' 'maize' 'orange' 'watermelon' 'rice' 'apple' 'grapes'\n",
      " 'orange' 'grapes' 'coconut' 'mango' 'jute' 'pomegranate' 'maize' 'mango'\n",
      " 'grapes' 'blackgram' 'mungbean' 'pigeonpeas' 'banana' 'cotton'\n",
      " 'blackgram' 'apple']\n"
     ]
    }
   ],
   "source": [
    "y_pred = le.inverse_transform(y_pred)\n",
    "print(y_pred)"
   ],
   "metadata": {
    "collapsed": false,
    "pycharm": {
     "name": "#%%\n"
    }
   }
  },
  {
   "cell_type": "markdown",
   "source": [
    "## Single Predicting\n"
   ],
   "metadata": {
    "collapsed": false,
    "pycharm": {
     "name": "#%% md\n"
    }
   }
  },
  {
   "cell_type": "code",
   "execution_count": 261,
   "outputs": [
    {
     "name": "stdout",
     "output_type": "stream",
     "text": [
      "rice\n"
     ]
    }
   ],
   "source": [
    "s_pred = regressor.predict([[90,42,43,20.87974371,82.00274423,6.502985292000001,202.9355362]])\n",
    "# print(s_pred[0]);\n",
    "s_pred = le.inverse_transform([int(s_pred[0])])\n",
    "print(s_pred[0])"
   ],
   "metadata": {
    "collapsed": false,
    "pycharm": {
     "name": "#%%\n"
    }
   }
  }
 ]
}